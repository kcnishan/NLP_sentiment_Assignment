{
 "cells": [
  {
   "cell_type": "markdown",
   "id": "775f4b18",
   "metadata": {},
   "source": [
    "# Natural Language Processing(CS 833) Assignment 1\n",
    " \n",
    "### The goal of this assignment is to underatand how n-gram models work and how smoothing techniques can handle unseen sequences in a dataset\n"
   ]
  },
  {
   "cell_type": "code",
   "execution_count": null,
   "id": "1e4d31d2-39c5-4d98-90fb-d12f5eadc896",
   "metadata": {},
   "outputs": [],
   "source": []
  },
  {
   "cell_type": "markdown",
   "id": "7c845ae4",
   "metadata": {},
   "source": [
    "## 0) Necessary Setup"
   ]
  },
  {
   "cell_type": "code",
   "execution_count": 1,
   "id": "355fcdf6",
   "metadata": {},
   "outputs": [],
   "source": [
    "import os \n",
    "import re\n",
    "import math\n",
    "import random\n",
    "from collections import Counter\n",
    "from typing import List, Tuple, Dict\n",
    "import pandas as pd\n",
    "import matplotlib.pyplot as plt\n",
    "import seaborn as sns\n",
    "import numpy as np"
   ]
  },
  {
   "cell_type": "code",
   "execution_count": 2,
   "id": "fef88556-a70d-46a5-83f7-2c0f2f801013",
   "metadata": {},
   "outputs": [],
   "source": [
    "from sklearn.model_selection import train_test_split"
   ]
  },
  {
   "cell_type": "code",
   "execution_count": 3,
   "id": "9d5fa43c-bc8d-4949-8c74-54dfc12083cc",
   "metadata": {},
   "outputs": [],
   "source": [
    "random.seed(100)\n",
    "os.makedirs(\"Results\", exist_ok=True) # All the results are saved here"
   ]
  },
  {
   "cell_type": "code",
   "execution_count": 4,
   "id": "641cb201-eceb-4762-bc9e-c89c596922f2",
   "metadata": {},
   "outputs": [],
   "source": [
    "results_path = './Results/'"
   ]
  },
  {
   "cell_type": "markdown",
   "id": "dfd70cb4",
   "metadata": {},
   "source": [
    "## 1) Data Setup (Load data after downlaoding from kaggle)"
   ]
  },
  {
   "cell_type": "code",
   "execution_count": 5,
   "id": "a1000bda-dcb7-4439-be2b-48d795b00968",
   "metadata": {},
   "outputs": [],
   "source": [
    "data_path = 'dataset/all-data.csv'"
   ]
  },
  {
   "cell_type": "code",
   "execution_count": 6,
   "id": "f4310b74-c297-4624-b502-f6f5c272dd39",
   "metadata": {},
   "outputs": [],
   "source": [
    "df_news = pd.read_csv(data_path, encoding=\"utf-8\", \n",
    "                      names=[\"sentiment\", \"text\"], #making column names\n",
    "                      encoding_errors=\"replace\")"
   ]
  },
  {
   "cell_type": "code",
   "execution_count": 7,
   "id": "717554fd-7a49-419e-8ce3-ff4efb4d9ede",
   "metadata": {},
   "outputs": [
    {
     "data": {
      "text/html": [
       "<div>\n",
       "<style scoped>\n",
       "    .dataframe tbody tr th:only-of-type {\n",
       "        vertical-align: middle;\n",
       "    }\n",
       "\n",
       "    .dataframe tbody tr th {\n",
       "        vertical-align: top;\n",
       "    }\n",
       "\n",
       "    .dataframe thead th {\n",
       "        text-align: right;\n",
       "    }\n",
       "</style>\n",
       "<table border=\"1\" class=\"dataframe\">\n",
       "  <thead>\n",
       "    <tr style=\"text-align: right;\">\n",
       "      <th></th>\n",
       "      <th>sentiment</th>\n",
       "      <th>text</th>\n",
       "    </tr>\n",
       "  </thead>\n",
       "  <tbody>\n",
       "    <tr>\n",
       "      <th>0</th>\n",
       "      <td>neutral</td>\n",
       "      <td>According to Gran , the company has no plans t...</td>\n",
       "    </tr>\n",
       "    <tr>\n",
       "      <th>1</th>\n",
       "      <td>neutral</td>\n",
       "      <td>Technopolis plans to develop in stages an area...</td>\n",
       "    </tr>\n",
       "    <tr>\n",
       "      <th>2</th>\n",
       "      <td>negative</td>\n",
       "      <td>The international electronic industry company ...</td>\n",
       "    </tr>\n",
       "    <tr>\n",
       "      <th>3</th>\n",
       "      <td>positive</td>\n",
       "      <td>With the new production plant the company woul...</td>\n",
       "    </tr>\n",
       "    <tr>\n",
       "      <th>4</th>\n",
       "      <td>positive</td>\n",
       "      <td>According to the company 's updated strategy f...</td>\n",
       "    </tr>\n",
       "  </tbody>\n",
       "</table>\n",
       "</div>"
      ],
      "text/plain": [
       "  sentiment                                               text\n",
       "0   neutral  According to Gran , the company has no plans t...\n",
       "1   neutral  Technopolis plans to develop in stages an area...\n",
       "2  negative  The international electronic industry company ...\n",
       "3  positive  With the new production plant the company woul...\n",
       "4  positive  According to the company 's updated strategy f..."
      ]
     },
     "execution_count": 7,
     "metadata": {},
     "output_type": "execute_result"
    }
   ],
   "source": [
    "df_news.head()"
   ]
  },
  {
   "cell_type": "code",
   "execution_count": 8,
   "id": "3df88d19-3ebb-4f97-b794-e18d794ed56f",
   "metadata": {},
   "outputs": [
    {
     "data": {
      "text/plain": [
       "\"Incap Corporation Stock Exchange Release 4 May 2010 at 8.30 a.m. INCAP CORPORATION 'S DIRECTED SHARE ISSUE WAS SUBSCRIBED IN FULL The Board of Incap Corporation has approved the subscriptions of directed share issue .\""
      ]
     },
     "execution_count": 8,
     "metadata": {},
     "output_type": "execute_result"
    }
   ],
   "source": [
    "sample_data = df_news.iloc[1000]['text']\n",
    "sample_data"
   ]
  },
  {
   "cell_type": "code",
   "execution_count": 9,
   "id": "4eb5a770-4bb4-44c5-8893-54491580b30f",
   "metadata": {},
   "outputs": [
    {
     "data": {
      "text/html": [
       "<div>\n",
       "<style scoped>\n",
       "    .dataframe tbody tr th:only-of-type {\n",
       "        vertical-align: middle;\n",
       "    }\n",
       "\n",
       "    .dataframe tbody tr th {\n",
       "        vertical-align: top;\n",
       "    }\n",
       "\n",
       "    .dataframe thead th {\n",
       "        text-align: right;\n",
       "    }\n",
       "</style>\n",
       "<table border=\"1\" class=\"dataframe\">\n",
       "  <thead>\n",
       "    <tr style=\"text-align: right;\">\n",
       "      <th></th>\n",
       "      <th>sentiment</th>\n",
       "      <th>text</th>\n",
       "    </tr>\n",
       "  </thead>\n",
       "  <tbody>\n",
       "    <tr>\n",
       "      <th>count</th>\n",
       "      <td>4846</td>\n",
       "      <td>4846</td>\n",
       "    </tr>\n",
       "    <tr>\n",
       "      <th>unique</th>\n",
       "      <td>3</td>\n",
       "      <td>4838</td>\n",
       "    </tr>\n",
       "    <tr>\n",
       "      <th>top</th>\n",
       "      <td>neutral</td>\n",
       "      <td>TELECOMWORLDWIRE-7 April 2006-TJ Group Plc sel...</td>\n",
       "    </tr>\n",
       "    <tr>\n",
       "      <th>freq</th>\n",
       "      <td>2879</td>\n",
       "      <td>2</td>\n",
       "    </tr>\n",
       "  </tbody>\n",
       "</table>\n",
       "</div>"
      ],
      "text/plain": [
       "       sentiment                                               text\n",
       "count       4846                                               4846\n",
       "unique         3                                               4838\n",
       "top      neutral  TELECOMWORLDWIRE-7 April 2006-TJ Group Plc sel...\n",
       "freq        2879                                                  2"
      ]
     },
     "execution_count": 9,
     "metadata": {},
     "output_type": "execute_result"
    }
   ],
   "source": [
    "df_news.describe()"
   ]
  },
  {
   "cell_type": "code",
   "execution_count": 10,
   "id": "4e44bd4e-037c-4ce5-bc2d-c5fca6ff98a2",
   "metadata": {},
   "outputs": [
    {
     "data": {
      "text/plain": [
       "sentiment\n",
       "neutral     2879\n",
       "positive    1363\n",
       "negative     604\n",
       "Name: count, dtype: int64"
      ]
     },
     "execution_count": 10,
     "metadata": {},
     "output_type": "execute_result"
    }
   ],
   "source": [
    "df_news.sentiment.value_counts()\n"
   ]
  },
  {
   "cell_type": "code",
   "execution_count": null,
   "id": "1af87492-7035-409e-bc7a-7f0ab2b4f7ab",
   "metadata": {},
   "outputs": [],
   "source": []
  },
  {
   "cell_type": "code",
   "execution_count": 11,
   "id": "d7814762-6cc7-49a7-978e-3edb62566621",
   "metadata": {},
   "outputs": [],
   "source": [
    "def tokenize_text(text):\n",
    "    \"\"\"\n",
    "    Tokenizes text into a list of words.\n",
    "    Args:\n",
    "        text (str): Input text to tokenize.\n",
    "    Returns:\n",
    "        list: List of tokenized strings.\n",
    "    \"\"\"\n",
    "    text = text.lower()\n",
    "    tokens = re.split(r'[^a-z0-9\\']+', text)\n",
    "    tokenized_list =  [t for t in tokens if t and t != \"'\"]\n",
    "    return tokenized_list\n",
    "    "
   ]
  },
  {
   "cell_type": "code",
   "execution_count": 12,
   "id": "00dcf43f-a5eb-4d1a-a754-4ebfbbdfa14e",
   "metadata": {},
   "outputs": [
    {
     "name": "stdout",
     "output_type": "stream",
     "text": [
      "['incap', 'corporation', 'stock', 'exchange', 'release', '4', 'may', '2010', 'at', '8', '30', 'a', 'm', 'incap', 'corporation', \"'s\", 'directed', 'share', 'issue', 'was', 'subscribed', 'in', 'full', 'the', 'board', 'of', 'incap', 'corporation', 'has', 'approved', 'the', 'subscriptions', 'of', 'directed', 'share', 'issue']\n"
     ]
    }
   ],
   "source": [
    "sample_data1 = tokenize_text(sample_data)\n",
    "print(sample_data1)"
   ]
  },
  {
   "cell_type": "code",
   "execution_count": 13,
   "id": "5a5e3838-b096-433d-a98c-12bf01ef2397",
   "metadata": {},
   "outputs": [],
   "source": [
    "def add_startend(tokens, n):\n",
    "    res = []\n",
    "    for _ in range(n - 1):\n",
    "        res.append(\"<s>\")\n",
    "    for t in tokens:\n",
    "        res.append(t)\n",
    "    res.append(\"</s>\")\n",
    "    return res\n"
   ]
  },
  {
   "cell_type": "code",
   "execution_count": 14,
   "id": "1ce064f9-46ca-4c2d-8f8f-c408857575e0",
   "metadata": {},
   "outputs": [],
   "source": [
    "sample_data2 = add_startend(sample_data1,3)"
   ]
  },
  {
   "cell_type": "code",
   "execution_count": 15,
   "id": "e39af4f1-9df9-4434-a80b-c992d09ff45a",
   "metadata": {},
   "outputs": [
    {
     "name": "stdout",
     "output_type": "stream",
     "text": [
      "['<s>', '<s>', 'incap', 'corporation', 'stock', 'exchange', 'release', '4', 'may', '2010', 'at', '8', '30', 'a', 'm', 'incap', 'corporation', \"'s\", 'directed', 'share', 'issue', 'was', 'subscribed', 'in', 'full', 'the', 'board', 'of', 'incap', 'corporation', 'has', 'approved', 'the', 'subscriptions', 'of', 'directed', 'share', 'issue', '</s>']\n"
     ]
    }
   ],
   "source": [
    "print(sample_data2)"
   ]
  },
  {
   "cell_type": "code",
   "execution_count": 16,
   "id": "2a953919-335e-4b40-a0c8-b444d0ae8553",
   "metadata": {},
   "outputs": [],
   "source": [
    "def preprocess_sentiment(text,n, start_end=False):\n",
    "    \"\"\"\n",
    "    Preprocess text by tokenizing and adding sentence markers.\n",
    "    \n",
    "    Args:\n",
    "        text (str): Input text to preprocess.\n",
    "        n (int): N-gram order for sentence markers (eg use 3 for trigrams)\n",
    "        add_startend(Boolean): whether to add tokens at start and end\n",
    "    \n",
    "    Returns:\n",
    "        List[str]: Tokenized text with start and end markers.\n",
    "    \"\"\"\n",
    "    tokens = tokenize_text(text)\n",
    "    if start_end:\n",
    "        tokens =  add_startend(tokens, n)\n",
    "    return tokens"
   ]
  },
  {
   "cell_type": "code",
   "execution_count": 17,
   "id": "6b6f4fe9-7a36-4284-b187-8a5442d5fbbc",
   "metadata": {},
   "outputs": [],
   "source": [
    "df_news['tokens'] = df_news['text'].apply(lambda x: preprocess_sentiment(x, n=3))"
   ]
  },
  {
   "cell_type": "code",
   "execution_count": 18,
   "id": "4a177749-af39-4c26-a7e8-b947c2fecebd",
   "metadata": {},
   "outputs": [
    {
     "data": {
      "text/html": [
       "<div>\n",
       "<style scoped>\n",
       "    .dataframe tbody tr th:only-of-type {\n",
       "        vertical-align: middle;\n",
       "    }\n",
       "\n",
       "    .dataframe tbody tr th {\n",
       "        vertical-align: top;\n",
       "    }\n",
       "\n",
       "    .dataframe thead th {\n",
       "        text-align: right;\n",
       "    }\n",
       "</style>\n",
       "<table border=\"1\" class=\"dataframe\">\n",
       "  <thead>\n",
       "    <tr style=\"text-align: right;\">\n",
       "      <th></th>\n",
       "      <th>sentiment</th>\n",
       "      <th>text</th>\n",
       "      <th>tokens</th>\n",
       "    </tr>\n",
       "  </thead>\n",
       "  <tbody>\n",
       "    <tr>\n",
       "      <th>0</th>\n",
       "      <td>neutral</td>\n",
       "      <td>According to Gran , the company has no plans t...</td>\n",
       "      <td>[according, to, gran, the, company, has, no, p...</td>\n",
       "    </tr>\n",
       "    <tr>\n",
       "      <th>1</th>\n",
       "      <td>neutral</td>\n",
       "      <td>Technopolis plans to develop in stages an area...</td>\n",
       "      <td>[technopolis, plans, to, develop, in, stages, ...</td>\n",
       "    </tr>\n",
       "    <tr>\n",
       "      <th>2</th>\n",
       "      <td>negative</td>\n",
       "      <td>The international electronic industry company ...</td>\n",
       "      <td>[the, international, electronic, industry, com...</td>\n",
       "    </tr>\n",
       "    <tr>\n",
       "      <th>3</th>\n",
       "      <td>positive</td>\n",
       "      <td>With the new production plant the company woul...</td>\n",
       "      <td>[with, the, new, production, plant, the, compa...</td>\n",
       "    </tr>\n",
       "    <tr>\n",
       "      <th>4</th>\n",
       "      <td>positive</td>\n",
       "      <td>According to the company 's updated strategy f...</td>\n",
       "      <td>[according, to, the, company, 's, updated, str...</td>\n",
       "    </tr>\n",
       "  </tbody>\n",
       "</table>\n",
       "</div>"
      ],
      "text/plain": [
       "  sentiment                                               text  \\\n",
       "0   neutral  According to Gran , the company has no plans t...   \n",
       "1   neutral  Technopolis plans to develop in stages an area...   \n",
       "2  negative  The international electronic industry company ...   \n",
       "3  positive  With the new production plant the company woul...   \n",
       "4  positive  According to the company 's updated strategy f...   \n",
       "\n",
       "                                              tokens  \n",
       "0  [according, to, gran, the, company, has, no, p...  \n",
       "1  [technopolis, plans, to, develop, in, stages, ...  \n",
       "2  [the, international, electronic, industry, com...  \n",
       "3  [with, the, new, production, plant, the, compa...  \n",
       "4  [according, to, the, company, 's, updated, str...  "
      ]
     },
     "execution_count": 18,
     "metadata": {},
     "output_type": "execute_result"
    }
   ],
   "source": [
    "df_news.head()"
   ]
  },
  {
   "cell_type": "code",
   "execution_count": 19,
   "id": "e148f5a7-0293-4e26-aa0f-b431b8f9450f",
   "metadata": {},
   "outputs": [],
   "source": [
    "df_news['tokens2'] = df_news['text'].apply(lambda x: preprocess_sentiment(x, n=2, start_end=True))"
   ]
  },
  {
   "cell_type": "code",
   "execution_count": 20,
   "id": "f902a7ba-7580-4d9e-accb-1c9a780fc760",
   "metadata": {},
   "outputs": [
    {
     "data": {
      "text/html": [
       "<div>\n",
       "<style scoped>\n",
       "    .dataframe tbody tr th:only-of-type {\n",
       "        vertical-align: middle;\n",
       "    }\n",
       "\n",
       "    .dataframe tbody tr th {\n",
       "        vertical-align: top;\n",
       "    }\n",
       "\n",
       "    .dataframe thead th {\n",
       "        text-align: right;\n",
       "    }\n",
       "</style>\n",
       "<table border=\"1\" class=\"dataframe\">\n",
       "  <thead>\n",
       "    <tr style=\"text-align: right;\">\n",
       "      <th></th>\n",
       "      <th>sentiment</th>\n",
       "      <th>text</th>\n",
       "      <th>tokens</th>\n",
       "      <th>tokens2</th>\n",
       "    </tr>\n",
       "  </thead>\n",
       "  <tbody>\n",
       "    <tr>\n",
       "      <th>0</th>\n",
       "      <td>neutral</td>\n",
       "      <td>According to Gran , the company has no plans t...</td>\n",
       "      <td>[according, to, gran, the, company, has, no, p...</td>\n",
       "      <td>[&lt;s&gt;, according, to, gran, the, company, has, ...</td>\n",
       "    </tr>\n",
       "    <tr>\n",
       "      <th>1</th>\n",
       "      <td>neutral</td>\n",
       "      <td>Technopolis plans to develop in stages an area...</td>\n",
       "      <td>[technopolis, plans, to, develop, in, stages, ...</td>\n",
       "      <td>[&lt;s&gt;, technopolis, plans, to, develop, in, sta...</td>\n",
       "    </tr>\n",
       "    <tr>\n",
       "      <th>2</th>\n",
       "      <td>negative</td>\n",
       "      <td>The international electronic industry company ...</td>\n",
       "      <td>[the, international, electronic, industry, com...</td>\n",
       "      <td>[&lt;s&gt;, the, international, electronic, industry...</td>\n",
       "    </tr>\n",
       "    <tr>\n",
       "      <th>3</th>\n",
       "      <td>positive</td>\n",
       "      <td>With the new production plant the company woul...</td>\n",
       "      <td>[with, the, new, production, plant, the, compa...</td>\n",
       "      <td>[&lt;s&gt;, with, the, new, production, plant, the, ...</td>\n",
       "    </tr>\n",
       "    <tr>\n",
       "      <th>4</th>\n",
       "      <td>positive</td>\n",
       "      <td>According to the company 's updated strategy f...</td>\n",
       "      <td>[according, to, the, company, 's, updated, str...</td>\n",
       "      <td>[&lt;s&gt;, according, to, the, company, 's, updated...</td>\n",
       "    </tr>\n",
       "  </tbody>\n",
       "</table>\n",
       "</div>"
      ],
      "text/plain": [
       "  sentiment                                               text  \\\n",
       "0   neutral  According to Gran , the company has no plans t...   \n",
       "1   neutral  Technopolis plans to develop in stages an area...   \n",
       "2  negative  The international electronic industry company ...   \n",
       "3  positive  With the new production plant the company woul...   \n",
       "4  positive  According to the company 's updated strategy f...   \n",
       "\n",
       "                                              tokens  \\\n",
       "0  [according, to, gran, the, company, has, no, p...   \n",
       "1  [technopolis, plans, to, develop, in, stages, ...   \n",
       "2  [the, international, electronic, industry, com...   \n",
       "3  [with, the, new, production, plant, the, compa...   \n",
       "4  [according, to, the, company, 's, updated, str...   \n",
       "\n",
       "                                             tokens2  \n",
       "0  [<s>, according, to, gran, the, company, has, ...  \n",
       "1  [<s>, technopolis, plans, to, develop, in, sta...  \n",
       "2  [<s>, the, international, electronic, industry...  \n",
       "3  [<s>, with, the, new, production, plant, the, ...  \n",
       "4  [<s>, according, to, the, company, 's, updated...  "
      ]
     },
     "execution_count": 20,
     "metadata": {},
     "output_type": "execute_result"
    }
   ],
   "source": [
    "df_news.head()"
   ]
  },
  {
   "cell_type": "markdown",
   "id": "18671ff0-b13c-462b-9f56-0fd2a56e4fe9",
   "metadata": {},
   "source": [
    "#  Task 1: N-gram Generation\n",
    "## Identify and Generate unigrams, bigrams, and trigrams, calculate their frequencies,\n",
    "## and visualize the top 10 most frequent n-grams."
   ]
  },
  {
   "cell_type": "code",
   "execution_count": 21,
   "id": "38666dda-add7-486c-96b1-983d78a1c12d",
   "metadata": {},
   "outputs": [],
   "source": [
    "def ngram_generation(tokens, n):\n",
    "    \"\"\"\n",
    "    Generate n-grams from a list of tokens\n",
    "    Args:\n",
    "        tokens: List of tokens to generate n-grams from.\n",
    "        n: Size of n-grams (e.g. 1 for unigrams).\n",
    "    Returns:\n",
    "        List of n-gram tuples.\n",
    "    \"\"\"\n",
    "    ngs = []\n",
    "    for i in range(len(tokens) - n + 1):\n",
    "        ng = tuple(tokens[i:i + n])\n",
    "        ngs.append(ng)\n",
    "    return ngs\n"
   ]
  },
  {
   "cell_type": "code",
   "execution_count": null,
   "id": "b3a82858-ab12-4f4a-871c-aa3bc65348a9",
   "metadata": {},
   "outputs": [],
   "source": []
  },
  {
   "cell_type": "markdown",
   "id": "35f7ca77-c605-458d-b576-09a3de308e19",
   "metadata": {},
   "source": [
    "### Generate unigrams, bigrams, and trigrams"
   ]
  },
  {
   "cell_type": "code",
   "execution_count": 22,
   "id": "dcbafe6f-c8a3-47c8-a93f-bad1cf8b891e",
   "metadata": {},
   "outputs": [],
   "source": [
    "combined_tokens = [token for tokens in df_news['tokens'] for token in tokens]"
   ]
  },
  {
   "cell_type": "code",
   "execution_count": 23,
   "id": "deb5956f-3226-4a43-8128-da21200e54b1",
   "metadata": {},
   "outputs": [],
   "source": [
    "unigrams = ngram_generation(combined_tokens, 1)\n",
    "bigrams = ngram_generation(combined_tokens, 2)\n",
    "trigrams = ngram_generation(combined_tokens, 3)\n"
   ]
  },
  {
   "cell_type": "code",
   "execution_count": 24,
   "id": "fe05ea4e-f19d-4b5d-bef3-a5f31ebd2ff8",
   "metadata": {},
   "outputs": [],
   "source": [
    "# Calculate frequency distributions\n",
    "unigram_freq = Counter(unigrams)\n",
    "bigram_freq = Counter(bigrams)\n",
    "trigram_freq = Counter(trigrams)"
   ]
  },
  {
   "cell_type": "code",
   "execution_count": 25,
   "id": "aae6ed2f-b767-44e0-9b73-6b00a2898b21",
   "metadata": {},
   "outputs": [],
   "source": [
    " #Convert tuples to strings(for visualization)\n",
    "unigram_freq = {k[0]: v for k, v in unigram_freq.items()}\n",
    "bigram_freq = {' '.join(k): v for k, v in bigram_freq.items()}\n",
    "trigram_freq = {' '.join(k): v for k, v in trigram_freq.items()}\n"
   ]
  },
  {
   "cell_type": "code",
   "execution_count": 26,
   "id": "624694c5-4492-4004-a25b-ac18ee85da71",
   "metadata": {},
   "outputs": [],
   "source": [
    "def get_ngram_table(ngram_freq, title, top_n = 10):\n",
    "    \"\"\"\n",
    "    Print a table of the top n most frequent n-grams using pandas DataFrame. \n",
    "    Args:\n",
    "        ngram_freq: Dictionary of n-grams and their frequencies.\n",
    "        title : Title of the table.\n",
    "        top_n: Number of top n-grams to display (default: 10).\n",
    "    \"\"\"\n",
    "    top_ngrams = sorted(ngram_freq.items(), key=lambda x: x[1], reverse=True)[:top_n]\n",
    "    df_ngrams = pd.DataFrame(top_ngrams, columns=['N-gram', 'Frequency'])\n",
    "    print(f\"\\n{title}\")\n",
    "    print(df_ngrams)"
   ]
  },
  {
   "cell_type": "code",
   "execution_count": 27,
   "id": "cf06aa66-227e-49d1-877f-edc0f9448241",
   "metadata": {},
   "outputs": [
    {
     "name": "stdout",
     "output_type": "stream",
     "text": [
      "\n",
      "Top 10 Unigrams Table\n",
      "  N-gram  Frequency\n",
      "0    the       6069\n",
      "1     of       3215\n",
      "2     in       2984\n",
      "3    and       2596\n",
      "4     to       2523\n",
      "5      a       1748\n",
      "6    for       1152\n",
      "7    eur       1018\n",
      "8     's       1000\n",
      "9     is        930\n",
      "\n",
      "Top 10 Bigrams Table\n",
      "        N-gram  Frequency\n",
      "0       in the        804\n",
      "1       of the        719\n",
      "2  the company        504\n",
      "3      for the        357\n",
      "4      will be        272\n",
      "5    net sales        246\n",
      "6       to the        242\n",
      "7       to eur        227\n",
      "8     from eur        210\n",
      "9        mn in        196\n",
      "\n",
      "Top 10 Trigrams Table\n",
      "                     N-gram  Frequency\n",
      "0            the company 's        131\n",
      "1                 mn in the        122\n",
      "2  the corresponding period        108\n",
      "3   corresponding period in         87\n",
      "4                as well as         82\n",
      "5              in the first         76\n",
      "6               mn from eur         73\n",
      "7      in the corresponding         73\n",
      "8                the end of         68\n",
      "9              net sales of         66\n"
     ]
    }
   ],
   "source": [
    "# Print frequency tables\n",
    "get_ngram_table(unigram_freq, 'Top 10 Unigrams Table')\n",
    "get_ngram_table(bigram_freq, 'Top 10 Bigrams Table')\n",
    "get_ngram_table(trigram_freq, 'Top 10 Trigrams Table')"
   ]
  },
  {
   "cell_type": "code",
   "execution_count": 28,
   "id": "48382e25-4dfa-4b29-b7b3-60a51d9cdb94",
   "metadata": {},
   "outputs": [],
   "source": [
    "def plot_wordcount(ngram_freq, title, label='unigram_mostfrequent',top_n = 10):\n",
    "    \"\"\"\n",
    "    Plot word count in  bar chart of the top n most frequent n-grams.\n",
    "    Args:\n",
    "        ngram_freq: Dictionary of n-grams and their frequencies.\n",
    "        title: Title of the plot.\n",
    "        top_n: Number of top n-grams to display (default: 10).\n",
    "    \"\"\"\n",
    "    top_ngrams = dict(sorted(ngram_freq.items(), \n",
    "                             key=lambda x: x[1], \n",
    "                             reverse=True)[:top_n])\n",
    "    plt.figure(figsize=(10, 5))\n",
    "    sns.barplot(x=list(top_ngrams.values()), y=list(top_ngrams.keys()))\n",
    "    plt.title(title)\n",
    "    plt.xlabel('Frequency')\n",
    "    plt.ylabel('N-gram')\n",
    "    plt.savefig(f\"{results_path}/{label}_.pdf\", dpi=300, bbox_inches=\"tight\") \n",
    "    plt.show()"
   ]
  },
  {
   "cell_type": "code",
   "execution_count": 29,
   "id": "84447f39-c232-4b2e-9aa6-c2a4b3516768",
   "metadata": {},
   "outputs": [
    {
     "data": {
      "image/png": "[encoded data removed]",
      "text/plain": [
       "<Figure size 1000x500 with 1 Axes>"
      ]
     },
     "metadata": {},
     "output_type": "display_data"
    },
    {
     "data": {
      "image/png": "[encoded data removed]",
      "text/plain": [
       "<Figure size 1000x500 with 1 Axes>"
      ]
     },
     "metadata": {},
     "output_type": "display_data"
    },
    {
     "data": {
      "image/png": "[encoded data removed]",
      "text/plain": [
       "<Figure size 1000x500 with 1 Axes>"
      ]
     },
     "metadata": {},
     "output_type": "display_data"
    }
   ],
   "source": [
    " #plot bargraph\n",
    "plot_wordcount(unigram_freq, 'Top 10 most frequent unigrams','unigram_mostfrequent')\n",
    "plot_wordcount(bigram_freq,  'Top 10 most frequent Bigrams', 'bigram_mostfrequent')\n",
    "plot_wordcount(trigram_freq, 'Top 10 most frequent Trigrams', 'triigram_mostfrequent')"
   ]
  },
  {
   "cell_type": "markdown",
   "id": "e3f9337e-5993-44c0-a199-229060be04bc",
   "metadata": {},
   "source": [
    "#  Task 2: N-Gram Modeling \n",
    "## Split data, Train ngram models, evaluate performance "
   ]
  },
  {
   "cell_type": "code",
   "execution_count": 30,
   "id": "2350aff1-7a3d-46b2-9330-51d1784e4a17",
   "metadata": {},
   "outputs": [],
   "source": [
    "def split_df(df):\n",
    "    X = df[['text', 'tokens']].copy()\n",
    "    y = df['sentiment'].copy()  # values: \"positive\", \"negative\", \"neutral\"\n",
    "    X_train, X_test, y_train, y_test = train_test_split(\n",
    "        X, y,\n",
    "        test_size=0.2,\n",
    "        random_state=42,\n",
    "        stratify=y # To force even distribution of 3 classes\n",
    "    )\n",
    "    \n",
    "    train_df = X_train.copy()\n",
    "    train_df['sentiment'] = y_train.values\n",
    "    \n",
    "    test_df = X_test.copy()\n",
    "    test_df['sentiment'] = y_test.values\n",
    "    return train_df, test_df"
   ]
  },
  {
   "cell_type": "code",
   "execution_count": 31,
   "id": "91115594-2d68-45e5-8624-979b934e5776",
   "metadata": {},
   "outputs": [],
   "source": [
    "train_df_news, test_df_news = split_df(df_news)"
   ]
  },
  {
   "cell_type": "code",
   "execution_count": 32,
   "id": "72091584-6b19-470a-9a07-d1c7c1dcd943",
   "metadata": {},
   "outputs": [
    {
     "name": "stdout",
     "output_type": "stream",
     "text": [
      "Distribution of classes for entire data: sentiment\n",
      "neutral     2879\n",
      "positive    1363\n",
      "negative     604\n",
      "Name: count, dtype: int64\n"
     ]
    }
   ],
   "source": [
    "print('Distribution of classes for entire data:',df_news['sentiment'].value_counts())"
   ]
  },
  {
   "cell_type": "code",
   "execution_count": 33,
   "id": "a4a17b10-6aa5-4cb5-a723-757186b10ef5",
   "metadata": {},
   "outputs": [
    {
     "name": "stdout",
     "output_type": "stream",
     "text": [
      "shape of train data: (3876, 3)\n",
      "shape of test data: (970, 3)\n"
     ]
    }
   ],
   "source": [
    "print('shape of train data:',train_df_news.shape)\n",
    "print('shape of test data:',test_df_news.shape)"
   ]
  },
  {
   "cell_type": "code",
   "execution_count": 34,
   "id": "e174bb99-b092-486d-ab91-c9f9619be16c",
   "metadata": {},
   "outputs": [
    {
     "name": "stdout",
     "output_type": "stream",
     "text": [
      "Distribution of classes for train data: sentiment\n",
      "neutral     2303\n",
      "positive    1090\n",
      "negative     483\n",
      "Name: count, dtype: int64\n",
      "\n",
      "Distribution of classes for test data: sentiment\n",
      "neutral     576\n",
      "positive    273\n",
      "negative    121\n",
      "Name: count, dtype: int64\n"
     ]
    }
   ],
   "source": [
    "print('Distribution of classes for train data:',train_df_news['sentiment'].value_counts())\n",
    "print('')\n",
    "print('Distribution of classes for test data:',test_df_news['sentiment'].value_counts())"
   ]
  },
  {
   "cell_type": "code",
   "execution_count": 35,
   "id": "f9a0c070-3321-4966-a89e-29f604479825",
   "metadata": {},
   "outputs": [],
   "source": [
    "# Collect all tokens from training data for n-gram generation\n",
    "combined_tokens_train = train_df_news['tokens'].explode().tolist()"
   ]
  },
  {
   "cell_type": "code",
   "execution_count": 36,
   "id": "fa4f7a78-5f9d-43ad-a738-499fae8e7f9b",
   "metadata": {},
   "outputs": [
    {
     "data": {
      "text/plain": [
       "82444"
      ]
     },
     "execution_count": 36,
     "metadata": {},
     "output_type": "execute_result"
    }
   ],
   "source": [
    "len(combined_tokens_train)"
   ]
  },
  {
   "cell_type": "markdown",
   "id": "a68d1160-623e-449b-8acd-456e1a162c92",
   "metadata": {},
   "source": [
    "## Train ngram model"
   ]
  },
  {
   "cell_type": "code",
   "execution_count": 37,
   "id": "d4c6a278-98ec-4848-bfd6-191846b5acb0",
   "metadata": {},
   "outputs": [],
   "source": [
    "def ngram_models_train(tokens, n):\n",
    "    \"\"\"\n",
    "    Train an n-gram model by counting n-grams and their contexts.\n",
    "    \n",
    "    Args:\n",
    "        tokens: List of tokens to train on.\n",
    "        n: N-gram order (e.g., 1 for unigram, 2 for bigram).\n",
    "    \n",
    "    Returns:\n",
    "        N-gram counts and context (n-1)-gram counts.\n",
    "    \"\"\"\n",
    "    ngrams = ngram_generation(tokens, n)\n",
    "    ngram_counts = Counter(ngrams)\n",
    "    if n > 1:\n",
    "        context_counts = Counter(ngram_generation(tokens, n - 1))\n",
    "    else:\n",
    "        total = sum(ngram_counts.values())\n",
    "        context_counts = Counter({(): total})\n",
    "    return ngram_counts, context_counts"
   ]
  },
  {
   "cell_type": "code",
   "execution_count": 38,
   "id": "fc131bc5-8df6-4c48-862b-8bde0082b669",
   "metadata": {},
   "outputs": [],
   "source": [
    "def ngram_prob_calculation(ngram, ngram_counts, context_counts, vocab_size):\n",
    "    \"\"\"\n",
    "    Calculate the conditional probability of an n-gram: \n",
    "    \n",
    "    Args:\n",
    "        ngram: The n-gram to compute probability for.\n",
    "        ngram_counts: Counts of n-grams.\n",
    "        context_counts: Counts of (n-1)-gram contexts.\n",
    "        vocab_size: Size of the vocabulary.\n",
    "    \n",
    "    Returns:\n",
    "       Conditional probability, with small value for unseen n-grams.\n",
    "    \"\"\"\n",
    "    count = ngram_counts.get(ngram, 0)\n",
    "    context = ngram[:-1]\n",
    "    context_count = context_counts.get(context, vocab_size)\n",
    "    if context_count > 0:\n",
    "        prob = count / context_count\n",
    "    else:\n",
    "        prob = 1e-10 # small value for unseen n-grams.\n",
    "    if prob <= 0:\n",
    "        return 1e-10\n",
    "    return prob"
   ]
  },
  {
   "cell_type": "code",
   "execution_count": 39,
   "id": "46b17548-1f8b-4da1-b8a7-47cac35f67d3",
   "metadata": {},
   "outputs": [],
   "source": [
    "# tokens = preprocess_sentiment(text, n,start_end=True)"
   ]
  },
  {
   "cell_type": "code",
   "execution_count": 40,
   "id": "2975c521-a10f-4e11-b72f-91fc57694b2f",
   "metadata": {},
   "outputs": [],
   "source": [
    "def calculate_perplexity(n, ngram_counts, context_counts, vocab_size, prob_func, \n",
    "                         test_df = None, sentence = None, track_unseen = False, label: str = \"\"):\n",
    "    \"\"\"\n",
    "    Calculate perplexity using the natural logarithm of probabilities.\n",
    "    \n",
    "    Args:\n",
    "        n (int): N-gram order (1 for unigram, 2 for bigram, 3 for trigram).\n",
    "        ngram_counts (Counter): Counts of n-grams from training.\n",
    "        context_counts (Counter): Counts of (n-1)-gram contexts.\n",
    "        vocab_size (int): Size of the vocabulary.\n",
    "        prob_func (Callable): Function to compute n-gram probability\n",
    "        test_df (pd.DataFrame, optional): Test DataFrame with 'text' column for test-set perplexity.\n",
    "        sentence (str, optional): Single sentence for perplexity calculation.\n",
    "        track_unseen (bool): Whether to track and print unseen n-grams (for unsmoothed models).\n",
    "        label (str): Label for debug prints\n",
    "    \n",
    "    Returns:\n",
    "        float: Perplexity score (average for test set, single value for sentence).\n",
    "    \"\"\"\n",
    "    \n",
    "    def compute_single_perplexity(text):\n",
    "        tokens = preprocess_sentiment(text, n,start_end=True)\n",
    "        ngrams = ngram_generation(tokens, n)\n",
    "\n",
    "        \n",
    "        log_prob_sum = 0.0\n",
    "        ngram_count = 0\n",
    "        unseen_ngrams = 0\n",
    "        for ng in ngrams:\n",
    "            p = prob_func(ng, ngram_counts, context_counts, vocab_size)\n",
    "            if track_unseen and p == 1e-10:\n",
    "                unseen_ngrams += 1\n",
    "            log_prob_sum += math.log(p)\n",
    "            ngram_count += 1\n",
    "        \n",
    "        perplexity = math.exp(-log_prob_sum / ngram_count)\n",
    "        if track_unseen and unseen_ngrams > 0:\n",
    "            print(f\"Text {label}: {text[:50]!s:<50} Unseen n-grams: {unseen_ngrams}/{ngram_count}\")\n",
    "        return perplexity\n",
    "    \n",
    "    if sentence is not None:\n",
    "        return compute_single_perplexity(sentence)\n",
    "    \n",
    "    # Process test set\n",
    "    perplexities = []\n",
    "    for text in test_df['text']:\n",
    "        perplexity = compute_single_perplexity(text)\n",
    "        if perplexity != float('inf'):\n",
    "            perplexities.append(perplexity)\n",
    "    \n",
    "    return np.mean(perplexities) if perplexities else float('inf')"
   ]
  },
  {
   "cell_type": "code",
   "execution_count": 41,
   "id": "27f14246-782e-426b-b206-e117bb1df3f3",
   "metadata": {},
   "outputs": [
    {
     "name": "stdout",
     "output_type": "stream",
     "text": [
      "Vocabulary size: 9005\n"
     ]
    }
   ],
   "source": [
    "# get vocab\n",
    "vocab = set(combined_tokens_train)\n",
    "vocab_size = len(vocab)\n",
    "print(f\"Vocabulary size: {vocab_size}\")"
   ]
  },
  {
   "cell_type": "code",
   "execution_count": 42,
   "id": "ffe87447-abb4-421e-812f-012ce8264966",
   "metadata": {},
   "outputs": [],
   "source": [
    "# Train unigram, bigram, and trigram models\n",
    "unigram_counts, unigram_contexts = ngram_models_train(combined_tokens_train, 1)\n",
    "bigram_counts, bigram_contexts = ngram_models_train(combined_tokens_train, 2)\n",
    "trigram_counts, trigram_contexts = ngram_models_train(combined_tokens_train, 3)"
   ]
  },
  {
   "cell_type": "code",
   "execution_count": 43,
   "id": "d4afc7f9-5122-4e0c-90dc-8c9af08e9389",
   "metadata": {},
   "outputs": [],
   "source": [
    "# Calculate perplexity on test set (Task 2: Unsmoothed)\n",
    "unigram_perplexity = calculate_perplexity(1, unigram_counts, unigram_contexts, vocab_size, ngram_prob_calculation, test_df=test_df_news)\n",
    "bigram_perplexity = calculate_perplexity(2, bigram_counts, bigram_contexts, vocab_size, ngram_prob_calculation, test_df=test_df_news)\n",
    "trigram_perplexity = calculate_perplexity(3, trigram_counts, trigram_contexts, vocab_size, ngram_prob_calculation, test_df=test_df_news)"
   ]
  },
  {
   "cell_type": "code",
   "execution_count": null,
   "id": "417cfea6-cfb7-4bd9-b92e-ef80e1bac8e2",
   "metadata": {},
   "outputs": [],
   "source": []
  },
  {
   "cell_type": "code",
   "execution_count": 44,
   "id": "2ca78f2d-68d3-4964-bb7c-322e90f96204",
   "metadata": {},
   "outputs": [
    {
     "data": {
      "text/plain": [
       "Counter({(): 82444})"
      ]
     },
     "execution_count": 44,
     "metadata": {},
     "output_type": "execute_result"
    }
   ],
   "source": [
    "unigram_contexts"
   ]
  },
  {
   "cell_type": "code",
   "execution_count": 45,
   "id": "cf6b8689-de9f-4bc9-853a-6c01fa869604",
   "metadata": {},
   "outputs": [],
   "source": [
    "# bigram_counts"
   ]
  },
  {
   "cell_type": "code",
   "execution_count": 46,
   "id": "b99f0042-3572-46eb-b663-ddb6a3e0a598",
   "metadata": {},
   "outputs": [
    {
     "data": {
      "text/plain": [
       "array([5.78012681e+04, 1.04737975e+08, 2.03330424e+09])"
      ]
     },
     "execution_count": 46,
     "metadata": {},
     "output_type": "execute_result"
    }
   ],
   "source": [
    "comparison_data1 =  np.array([unigram_perplexity, bigram_perplexity, trigram_perplexity])\n",
    "comparison_data1"
   ]
  },
  {
   "cell_type": "code",
   "execution_count": 47,
   "id": "95c59e6b-6156-40cf-b85d-50720892ae4f",
   "metadata": {},
   "outputs": [],
   "source": [
    "# Visualize perplexity comparison\n",
    "def plot_comparison(comparison_data, label='Test data'):\n",
    "    plt.figure(figsize=(8, 5))\n",
    "    plt.bar(['Unigram', 'Bigram', 'Trigram'], comparison_data)\n",
    "    plt.yscale(\"log\") \n",
    "    plt.title(f'Perplexity(in log base 10 for  visualization) of N-Gram Models (Unsmoothed) in {label}')\n",
    "    plt.ylabel('Perplexity')\n",
    "    plt.savefig(f\"{results_path}/comparison_among_unsmoothed_.pdf\", dpi=300, bbox_inches=\"tight\") \n",
    "    plt.show()"
   ]
  },
  {
   "cell_type": "code",
   "execution_count": 48,
   "id": "4e6ffe3b-676a-40cf-8e01-d260a80e0904",
   "metadata": {},
   "outputs": [
    {
     "data": {
      "image/png": "[encoded data removed]",
      "text/plain": [
       "<Figure size 800x500 with 1 Axes>"
      ]
     },
     "metadata": {},
     "output_type": "display_data"
    }
   ],
   "source": [
    "plot_comparison(comparison_data1, label='Test_data')"
   ]
  },
  {
   "cell_type": "code",
   "execution_count": 49,
   "id": "43eb27d3-0384-41a9-acb7-6ee289a281af",
   "metadata": {},
   "outputs": [],
   "source": [
    "unseen_sentence = 'NLP is interesting. I love NLP'"
   ]
  },
  {
   "cell_type": "code",
   "execution_count": 50,
   "id": "e5a3217e-c829-42a0-99e7-36626cd94b82",
   "metadata": {},
   "outputs": [
    {
     "name": "stdout",
     "output_type": "stream",
     "text": [
      "Text : NLP is interesting. I love NLP                     Unseen n-grams: 3/7\n",
      "Text : NLP is interesting. I love NLP                     Unseen n-grams: 7/7\n",
      "Text : NLP is interesting. I love NLP                     Unseen n-grams: 7/7\n"
     ]
    }
   ],
   "source": [
    "# Calculate perplexity on test set (Task 2: Unsmoothed)\n",
    "unigram_perplexity2 = calculate_perplexity(1, unigram_counts, unigram_contexts, vocab_size, ngram_prob_calculation, sentence=unseen_sentence, track_unseen=True)\n",
    "bigram_perplexity2 = calculate_perplexity(2, bigram_counts, bigram_contexts, vocab_size, ngram_prob_calculation, sentence=unseen_sentence, track_unseen=True)\n",
    "trigram_perplexity2 = calculate_perplexity(3, trigram_counts, trigram_contexts, vocab_size, ngram_prob_calculation, sentence=unseen_sentence, track_unseen=True)\n"
   ]
  },
  {
   "cell_type": "code",
   "execution_count": 51,
   "id": "29549637-ce65-4c35-a4e7-fe0b16ec4e50",
   "metadata": {},
   "outputs": [
    {
     "data": {
      "text/plain": [
       "[2068625.4695181947, 9999999999.999968, 9999999999.999968]"
      ]
     },
     "execution_count": 51,
     "metadata": {},
     "output_type": "execute_result"
    }
   ],
   "source": [
    "comparison_data2 =  [unigram_perplexity2, bigram_perplexity2, trigram_perplexity2]\n",
    "comparison_data2"
   ]
  },
  {
   "cell_type": "markdown",
   "id": "b94c8446-0448-4318-aee0-07f0c1a3d867",
   "metadata": {},
   "source": [
    "# Task 3: Handling Unseen N-grams\n",
    "## Objective: Apply Laplace smoothing to n-gram models, recalculate perplexity \n",
    "## and compare with unsmoothed models."
   ]
  },
  {
   "cell_type": "code",
   "execution_count": 52,
   "id": "c5a93f54-82d4-4fd4-b4e1-312c08feb493",
   "metadata": {},
   "outputs": [],
   "source": [
    "def ngram_prob_calculation_laplace(ngram, ngram_counts, context_counts, vocab_size):\n",
    "    \"\"\"\n",
    "    Calculate Laplace-smoothed conditional probability for an n-gram.\n",
    "    \n",
    "    Args:\n",
    "        ngram (Tuple[str, ...]): The n-gram to compute probability for.\n",
    "        ngram_counts (Counter): Counts of n-grams.\n",
    "        context_counts (Counter): Counts of (n-1)-gram contexts.\n",
    "        vocab_size (int): Size of the vocabulary.\n",
    "    \n",
    "    Returns:\n",
    "        float: Smoothed conditional probability (non-zero for unseen n-grams).\n",
    "    \"\"\"\n",
    "    count = ngram_counts.get(ngram, 0) + 1\n",
    "    context = ngram[:-1]\n",
    "    context_count = context_counts.get(context, 0) + vocab_size\n",
    "    laplace_prob=  count / context_count\n",
    "    return laplace_prob"
   ]
  },
  {
   "cell_type": "code",
   "execution_count": 53,
   "id": "5ee2ece1-b2b6-4832-81de-c30f0b52d19c",
   "metadata": {},
   "outputs": [],
   "source": [
    "unigram_perplexity_laplace = calculate_perplexity(1, unigram_counts, unigram_contexts, vocab_size, ngram_prob_calculation_laplace, test_df=test_df_news, label=\"(Laplace)\")\n",
    "bigram_perplexity_laplace = calculate_perplexity(2, bigram_counts, bigram_contexts, vocab_size, ngram_prob_calculation_laplace, test_df=test_df_news, label=\"(Laplace)\")\n",
    "trigram_perplexity_laplace = calculate_perplexity(3, trigram_counts, trigram_contexts, vocab_size, ngram_prob_calculation_laplace, test_df=test_df_news, label=\"(Laplace)\")"
   ]
  },
  {
   "cell_type": "code",
   "execution_count": 54,
   "id": "951183bc-2ac9-45a7-99ba-881263041322",
   "metadata": {},
   "outputs": [],
   "source": [
    "comparison_data_laplace1 = np.array([unigram_perplexity_laplace,bigram_perplexity_laplace,trigram_perplexity_laplace])"
   ]
  },
  {
   "cell_type": "code",
   "execution_count": 55,
   "id": "6798d4e2-dbe2-4f1c-b729-af8235c90aab",
   "metadata": {},
   "outputs": [
    {
     "data": {
      "text/plain": [
       "array([1794.87896661, 3447.6342777 , 6700.12780524])"
      ]
     },
     "execution_count": 55,
     "metadata": {},
     "output_type": "execute_result"
    }
   ],
   "source": [
    "comparison_data_laplace1"
   ]
  },
  {
   "cell_type": "code",
   "execution_count": 56,
   "id": "d47b16bd-4ac2-4ac8-b855-84d7f795c1bb",
   "metadata": {},
   "outputs": [],
   "source": [
    "# Visualize comparison of unsmoothed vs. smoothed perplexity\n",
    "def plot_comparison_both(before,after):\n",
    "    plt.figure(figsize=(10, 6))\n",
    "    models = ['Unigram', 'Bigram', 'Trigram']\n",
    "    x = np.arange(len(models))\n",
    "    width = 0.35\n",
    "    plt.bar(x - width/2, before, width, label='Unsmoothed')\n",
    "    plt.bar(x + width/2, after, width, label='Laplace Smoothed')\n",
    "    plt.yscale('log', base=10)\n",
    "    plt.xlabel('N-Gram Model')\n",
    "    plt.ylabel('Perplexity(log scaled)')\n",
    "    plt.title('Perplexity Comparison: Unsmoothed vs. Laplace Smoothed  in Test Data')\n",
    "    plt.xticks(x, models)\n",
    "    plt.legend()\n",
    "    plt.savefig(f\"{results_path}/comparison_among_smoothed_Unsmoothed_.pdf\", dpi=300, bbox_inches=\"tight\") \n",
    "    plt.show()"
   ]
  },
  {
   "cell_type": "code",
   "execution_count": 57,
   "id": "1ccbbd90-1b5d-4e9a-94d3-1f424cfceb97",
   "metadata": {},
   "outputs": [
    {
     "data": {
      "image/png": "[encoded data removed]",
      "text/plain": [
       "<Figure size 1000x600 with 1 Axes>"
      ]
     },
     "metadata": {},
     "output_type": "display_data"
    }
   ],
   "source": [
    "plot_comparison_both(comparison_data1,comparison_data_laplace1)"
   ]
  },
  {
   "cell_type": "markdown",
   "id": "a0c870e2-e31d-4d0c-952d-8dc9d55041c3",
   "metadata": {},
   "source": [
    "# Task 4: Interpolation\n",
    "## Combine unigram, bigram, and trigram models using linear interpolation\n",
    "## with weights [0.1, 0.2, 0.7], calculate perplexity, and compare with other models."
   ]
  },
  {
   "cell_type": "code",
   "execution_count": 58,
   "id": "36696a02-f828-4af7-8f9f-daaa132f5911",
   "metadata": {},
   "outputs": [],
   "source": [
    "def get_interpolated_prob(ngram, models, weights, vocab_size):\n",
    "    \"\"\"\n",
    "    Calculate interpolated probability combining unigram, bigram, and trigram probabilities.\n",
    "    \n",
    "    Args:\n",
    "        ngram : The n-gram to compute probability.\n",
    "        models : List of (ngram_counts, context_counts) for unigram, bigram, trigram.\n",
    "        weights: Weights for unigram, bigram, trigram \n",
    "        vocab_size: Size of the vocabulary.\n",
    "    \n",
    "    Returns:\n",
    "        Interpolated probability.\n",
    "    \"\"\"\n",
    "    prob = 0.0\n",
    "    for i, (ngram_counts, context_counts) in enumerate(models, 1):\n",
    "        prob += weights[i-1] * ngram_prob_calculation_laplace(ngram[-i:], ngram_counts, context_counts, vocab_size)\n",
    "    return prob\n",
    "\n",
    "def calculate_perplexity_interpolated(test_tokens, models, weights, vocab_size):\n",
    "    \"\"\"\n",
    "    Calculate perplexity for the interpolated model.\n",
    "    \n",
    "    Args:\n",
    "        test_tokens: Test tokens to evaluate.\n",
    "        models : List of (ngram_counts, context_counts) for unigram, bigram, trigram.\n",
    "        weights : Weights for unigram, bigram, trigram.\n",
    "        vocab_size : Size of the vocabulary.\n",
    "    \n",
    "    Returns:\n",
    "        float: Perplexity score for the interpolated model.\n",
    "    \"\"\"\n",
    "    n = len(models)\n",
    "    ngrams = ngram_generation(test_tokens, n)\n",
    "    log_prob_sum = 0\n",
    "    total_ngrams = len(ngrams)\n",
    "    for ngram in ngrams:\n",
    "        prob = get_interpolated_prob(ngram, models, weights, vocab_size)\n",
    "        log_prob_sum += np.log2(prob if prob > 0 else 1e-10)\n",
    "    avg_log_prob = -log_prob_sum / total_ngrams if total_ngrams > 0 else 0\n",
    "    return 2 ** avg_log_prob"
   ]
  },
  {
   "cell_type": "code",
   "execution_count": 59,
   "id": "797cb39b-a0dc-4b70-9f0b-3369054407d8",
   "metadata": {},
   "outputs": [],
   "source": [
    "# Interpolation weights\n",
    "weights = [0.1, 0.2, 0.7]  # [unigram, bigram, trigram]\n",
    "models = [\n",
    "    (unigram_counts, unigram_contexts),\n",
    "    (bigram_counts, bigram_contexts),\n",
    "    (trigram_counts, trigram_contexts)\n",
    "]\n"
   ]
  },
  {
   "cell_type": "code",
   "execution_count": 60,
   "id": "a2ad19de-1c9a-48c7-bdd7-bbebd08e1abe",
   "metadata": {},
   "outputs": [],
   "source": [
    "# Calculate perplexity with interpolation\n",
    "test_tokens = [token for tokens in test_df_news['tokens'] for token in tokens]"
   ]
  },
  {
   "cell_type": "code",
   "execution_count": 61,
   "id": "4a456a3e-9e90-4776-840b-d01c00b5f0b3",
   "metadata": {},
   "outputs": [
    {
     "data": {
      "text/plain": [
       "20974"
      ]
     },
     "execution_count": 61,
     "metadata": {},
     "output_type": "execute_result"
    }
   ],
   "source": [
    "len(test_tokens)"
   ]
  },
  {
   "cell_type": "code",
   "execution_count": 62,
   "id": "4d504cd3-82d2-4420-a607-a219e9c7b84c",
   "metadata": {},
   "outputs": [],
   "source": [
    "interpolated_perplexity = calculate_perplexity_interpolated(test_tokens, models, weights, vocab_size)"
   ]
  },
  {
   "cell_type": "code",
   "execution_count": 63,
   "id": "d65deb7c-be89-4a5c-8515-156be66d35d8",
   "metadata": {},
   "outputs": [
    {
     "data": {
      "text/plain": [
       "2044.5937955049196"
      ]
     },
     "execution_count": 63,
     "metadata": {},
     "output_type": "execute_result"
    }
   ],
   "source": [
    "interpolated_perplexity"
   ]
  },
  {
   "cell_type": "code",
   "execution_count": 64,
   "id": "40e368e9-2fee-4aeb-8eda-75f4953ae68c",
   "metadata": {},
   "outputs": [],
   "source": [
    "def plot_perplexity_grouped(\n",
    "    unigram_perplexity,\n",
    "    bigram_perplexity,\n",
    "    trigram_perplexity,\n",
    "    unigram_perplexity_laplace=None,\n",
    "    bigram_perplexity_laplace=None,\n",
    "    trigram_perplexity_laplace=None,\n",
    "    interpolated_perplexity=None,\n",
    "    log_scale=True,\n",
    "    ax=None,\n",
    "    title=\"Perplexity Comparison of test data across Models\"\n",
    "):\n",
    "    \"\"\"\n",
    "    Plots vertical grouped bars for three groups:\n",
    "      - 'Unsmooth'       \n",
    "      - 'Laplace smooth' \n",
    "      - 'Interpolated'   (single combined value)\n",
    "    Series are Unigram, Bigram, Trigram, and  Interpolated.\n",
    "    \"\"\"\n",
    "\n",
    "    # Assemble data in (group -> series -> value) form\n",
    "    data = {\n",
    "        \"Unsmooth\": {\n",
    "            \"Unigram\": unigram_perplexity,\n",
    "            \"Bigram\": bigram_perplexity,\n",
    "            \"Trigram\": trigram_perplexity,\n",
    "            \"Interpolated\": None,\n",
    "        },\n",
    "        \"Laplace smooth\": {\n",
    "            \"Unigram\": unigram_perplexity_laplace,\n",
    "            \"Bigram\": bigram_perplexity_laplace,\n",
    "            \"Trigram\": trigram_perplexity_laplace,\n",
    "            \"Interpolated\": None,\n",
    "        },\n",
    "        \"Interpolated\": {\n",
    "            \"Unigram\": None,\n",
    "            \"Bigram\": None,\n",
    "            \"Trigram\": None,\n",
    "            \"Interpolated\": interpolated_perplexity,\n",
    "        },\n",
    "    }\n",
    "\n",
    "    groups = list(data.keys())\n",
    "    series = [\"Unigram\", \"Bigram\", \"Trigram\", \"Interpolated\"]\n",
    "\n",
    "    def human_readable(v):\n",
    "        if v is None: return \"\"\n",
    "        if v >= 1e9:  return f\"{v/1e9:.1f}B\"\n",
    "        if v >= 1e6:  return f\"{v/1e6:.1f}M\"\n",
    "        if v >= 1e3:  return f\"{v/1e3:.1f}k\"\n",
    "        return f\"{v:.0f}\"\n",
    "\n",
    "    if ax is None:\n",
    "        fig, ax = plt.subplots(figsize=(10, 5.5))\n",
    "\n",
    "    x = np.arange(len(groups))\n",
    "    bar_w = 0.18\n",
    "    gap = 1.15\n",
    "    offsets = (np.arange(len(series)) - (len(series) - 1) / 2) * bar_w * gap\n",
    "\n",
    "    # Track which series actually plotted (for legend)\n",
    "    plotted_series = []\n",
    "\n",
    "    for s_idx, s in enumerate(series):\n",
    "        xs, heights = [], []\n",
    "        for i, g in enumerate(groups):\n",
    "            v = data[g].get(s)\n",
    "            if v is None or v <= 0:\n",
    "                continue\n",
    "            xs.append(x[i] + offsets[s_idx])\n",
    "            heights.append(v)\n",
    "\n",
    "        if heights:\n",
    "            bars = ax.bar(xs, heights, width=bar_w, label=s)\n",
    "            if s not in plotted_series:\n",
    "                plotted_series.append(s)\n",
    "            # Add value labels\n",
    "            for rect, v in zip(bars, heights):\n",
    "                ax.text(rect.get_x() + rect.get_width()/2, v,\n",
    "                        human_readable(v),\n",
    "                        ha=\"center\", va=\"bottom\", fontsize=9, rotation=90)\n",
    "\n",
    "    ax.set_xticks(x)\n",
    "    ax.set_xticklabels(groups)\n",
    "    ax.set_xlabel(\"Group\")\n",
    "    ax.set_ylabel(\"Perplexity\" + (\" (log scale)\" if log_scale else \"\"))\n",
    "    ax.set_title(title)\n",
    "    if log_scale:\n",
    "        ax.set_yscale(\"log\")\n",
    "        ax.grid(axis=\"y\", which=\"both\", linestyle=\"--\", alpha=0.4)\n",
    "    else:\n",
    "        ax.grid(axis=\"y\", linestyle=\"--\", alpha=0.4)\n",
    "\n",
    "    if plotted_series:\n",
    "        ax.legend(title=\"Model\", ncol=2, frameon=False)\n",
    "\n",
    "    plt.tight_layout()\n",
    "    plt.savefig(f\"{results_path}/comparison_all_.pdf\", dpi=300, bbox_inches=\"tight\") \n",
    "    return ax"
   ]
  },
  {
   "cell_type": "code",
   "execution_count": 65,
   "id": "144dc502-4919-4a32-bd10-631599563599",
   "metadata": {},
   "outputs": [
    {
     "data": {
      "image/png": "[encoded data removed]",
      "text/plain": [
       "<Figure size 1000x550 with 1 Axes>"
      ]
     },
     "metadata": {},
     "output_type": "display_data"
    }
   ],
   "source": [
    "plot_perplexity_grouped(\n",
    "    unigram_perplexity,\n",
    "    bigram_perplexity,\n",
    "    trigram_perplexity,\n",
    "    unigram_perplexity_laplace,     \n",
    "    bigram_perplexity_laplace,       \n",
    "    trigram_perplexity_laplace,      \n",
    "    interpolated_perplexity,                    \n",
    "    log_scale=True\n",
    ")\n",
    "plt.show()"
   ]
  },
  {
   "cell_type": "code",
   "execution_count": null,
   "id": "8d2eeaa8-c359-4ab2-9db7-42a535ee12e9",
   "metadata": {},
   "outputs": [],
   "source": []
  },
  {
   "cell_type": "code",
   "execution_count": null,
   "id": "68016e6d-a520-470e-8384-167bc287c9da",
   "metadata": {},
   "outputs": [],
   "source": []
  }
 ],
 "metadata": {
  "kernelspec": {
   "display_name": "Python 3 (ipykernel)",
   "language": "python",
   "name": "python3"
  },
  "language_info": {
   "codemirror_mode": {
    "name": "ipython",
    "version": 3
   },
   "file_extension": ".py",
   "mimetype": "text/x-python",
   "name": "python",
   "nbconvert_exporter": "python",
   "pygments_lexer": "ipython3",
   "version": "3.10.16"
  }
 },
 "nbformat": 4,
 "nbformat_minor": 5
}
